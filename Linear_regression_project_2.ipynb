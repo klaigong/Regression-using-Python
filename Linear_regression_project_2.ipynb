{
 "cells": [
  {
   "cell_type": "markdown",
   "metadata": {},
   "source": [
    "## Regression Application"
   ]
  },
  {
   "cell_type": "markdown",
   "metadata": {},
   "source": [
    "This notebook applyies regression concepts and techniques to agricultural yield prediction. Through a series of steps, we'll analyse variable relationships, feature engineering, model construction, and evaluation, enhancing our understanding and proficiency in regression analysis."
   ]
  },
  {
   "cell_type": "markdown",
   "metadata": {},
   "source": [
    "\n",
    "# The data\n",
    "Join us on an intriguing exploration of a vast agricultural dataset. Uncover the intricate connections between geographic, weather, soil, and farm management features, all leading to a prediction of yield. Our mission? To decode these relationships and empower farmers with actionable insights for improved productivity and informed decision-making."
   ]
  },
  {
   "cell_type": "markdown",
   "metadata": {},
   "source": [
    "## Data dictionary\n",
    "\n",
    "**1. Geographic features**\n",
    "\n",
    "- **Field_ID:** A unique identifier for each field (BigInt).\n",
    " \n",
    "- **Elevation:** The elevation of the field above sea level in metres (Float).\n",
    "\n",
    "- **Latitude:** Geographical latitude of the field in degrees (Float). (DUMMY VARIABLE- the simulation might have created a relationship)\n",
    "\n",
    "- **Longitude:** Geographical longitude of the field in degrees (Float). (DUMMY VARIABLE- the simulation might have created a relationship)\n",
    "\n",
    "- **Location:** Province the field is in (Text).\n",
    "\n",
    "- **Slope:** The slope of the land in the field (Float).\n",
    "\n",
    "**2. Weather features**\n",
    "\n",
    "- **Rainfall:** Amount of rainfall in the area in mm (Float).\n",
    "\n",
    "- **Min_temperature_C:** Average minimum temperature recorded in Celsius (Float).(DUMMY VARIABLE)\n",
    "\n",
    "- **Max_temperature_C:** Average maximum temperature recorded in Celsius (Float).(DUMMY VARIABLE)\n",
    "\n",
    "- **Ave_temps:** Average temperature in Celcius (Float).\n",
    "\n",
    "**3. Soil and crop features**\n",
    "\n",
    "- **Soil_fertility:** A measure of soil fertility where 0 is infertile soil, and 1 is very fertile soil (Float).\n",
    "\n",
    "- **Soil_type:** Type of soil present in the field (Text).\n",
    "\n",
    "- **pH:** pH level of the soil, which is a measure of how acidic/basic the soil is (Float).\n",
    "\n",
    "**4. Farm management features**\n",
    "\n",
    "- **Field_ID:** Corresponding field identifier (BigInt).\n",
    "\n",
    "- **Pollution_level:** Level of pollution in the area where 0 is unpolluted and 1 is very polluted (Float).\n",
    "\n",
    "- **Plot_size:** Size of the plot in the field (Ha) (Float). (DUMMY VARIABLE)\n",
    "\n",
    "- **Chosen_crop:** Type of crop chosen for cultivation (Text).\n",
    "\n",
    "- **Annual_yield:** Annual yield from the field (Float). This is the total output of the field. The field size and type of crop will affect the Annual Yield (DUMMY VARIABLE - Removed)\n",
    "\n",
    "<br>\n",
    "\n",
    "**5. Target variable**\n",
    "- **Standard_yield:** Standardised yield expected from the field, normalised per crop (Float). This is independent of field size, or crop type. Multiplying this number by the field size, and average crop yield will give the Annual_Yield.\n",
    "\n",
    "---"
   ]
  },
  {
   "cell_type": "markdown",
   "metadata": {},
   "source": [
    "Let's import our database again, like we did last time. We won't use the weather data so it is commented out.\n",
    "\n",
    "**Important:** Ensure that `data_ingestion.py` file and the `field_data_processor.py` files are stored in the same folder as your notebook, otherwise the data import will fail.\n",
    " \n",
    "[Download files here](https://github.com/Explore-AI/Public-Data/raw/master/Maji_Ndogo/modules.zip)\n"
   ]
  },
  {
   "cell_type": "code",
   "execution_count": 2,
   "metadata": {},
   "outputs": [],
   "source": [
    "import statsmodels.formula.api as smf\n",
    "import matplotlib.pyplot as plt\n",
    "import statsmodels.graphics.correlation as sgc\n",
    "from statsmodels.graphics.gofplots import qqplot\n",
    "import statsmodels.stats.api as sms\n",
    "from statsmodels.stats.outliers_influence import OLSInfluence\n",
    "import seaborn as sns"
   ]
  },
  {
   "cell_type": "code",
   "execution_count": null,
   "metadata": {},
   "outputs": [],
   "source": [
    "# Read the database, and clean the data using the processing modules we built.\n",
    "import re\n",
    "import numpy as np\n",
    "import pandas as pd\n",
    "from field_data_processor import FieldDataProcessor\n",
    "\n",
    "# from weather_data_processor import WeatherDataProcessor\n",
    "import logging \n",
    "\n",
    "logging.basicConfig(level=logging.INFO, format='%(asctime)s - %(name)s - %(levelname)s - %(message)s')\n",
    "\n",
    "config_params = {\n",
    "    \"sql_query\": \"\"\"\n",
    "            SELECT *\n",
    "            FROM geographic_features\n",
    "            LEFT JOIN weather_features USING (Field_ID)\n",
    "            LEFT JOIN soil_and_crop_features USING (Field_ID)\n",
    "            LEFT JOIN farm_management_features USING (Field_ID)\n",
    "            \"\"\",\n",
    "    \"db_path\": 'sqlite:///Maji_Ndogo_farm_survey_small.db',\n",
    "    \"columns_to_rename\": {'Annual_yield': 'Crop_type', 'Crop_type': 'Annual_yield'},\n",
    "    \"values_to_rename\": {'cassaval': 'cassava', 'wheatn': 'wheat', 'teaa': 'tea'},\n",
    "    \"weather_csv_path\": \"https://raw.githubusercontent.com/Explore-AI/Public-Data/master/Maji_Ndogo/Weather_station_data.csv\",\n",
    "    \"weather_mapping_csv\": \"https://raw.githubusercontent.com/Explore-AI/Public-Data/master/Maji_Ndogo/Weather_data_field_mapping.csv\",\n",
    "    \"regex_patterns\" : {\n",
    "            'Rainfall': r'(\\d+(\\.\\d+)?)\\s?mm',\n",
    "            'Temperature': r'(\\d+(\\.\\d+)?)\\s?C',\n",
    "            'Pollution_level': r'=\\s*(-?\\d+(\\.\\d+)?)|Pollution at \\s*(-?\\d+(\\.\\d+)?)'\n",
    "            },\n",
    "}\n",
    "# Ignoring the field data for now.\n",
    "field_processor = FieldDataProcessor(config_params)\n",
    "field_processor.process()\n",
    "field_df = field_processor.df\n",
    "\n",
    "# We're not going to use the weather data this time, so we'll ignore it.\n",
    "# weather_processor = WeatherDataProcessor(config_params)\n",
    "# weather_processor.process()\n",
    "# weather_df = weather_processor.weather_df\n",
    "\n",
    "dataset = field_df.drop(\"Weather_station\", axis=1)"
   ]
  },
  {
   "cell_type": "markdown",
   "metadata": {},
   "source": [
    "Before diving into our analysis, it's crucial to ensure the integrity of our dataset and that the data is still as we expect it to be."
   ]
  },
  {
   "cell_type": "code",
   "execution_count": 3,
   "metadata": {},
   "outputs": [
    {
     "name": "stdout",
     "output_type": "stream",
     "text": [
      "\u001b[1m============================= test session starts =============================\u001b[0m\n",
      "platform win32 -- Python 3.11.5, pytest-7.4.0, pluggy-1.0.0 -- c:\\Users\\klaig\\anaconda3\\python.exe\n",
      "cachedir: .pytest_cache\n",
      "rootdir: c:\\Users\\klaig\\Downloads\n",
      "plugins: anyio-3.5.0\n",
      "\u001b[1mcollecting ... \u001b[0mcollected 4 items\n",
      "\n",
      "validate_data.py::test_read_field_dataframe_shape \u001b[32mPASSED\u001b[0m\u001b[32m                 [ 25%]\u001b[0m\n",
      "validate_data.py::test_field_dataframe_columns \u001b[32mPASSED\u001b[0m\u001b[32m                    [ 50%]\u001b[0m\n",
      "validate_data.py::test_field_dataframe_non_negative_elevation \u001b[32mPASSED\u001b[0m\u001b[32m     [ 75%]\u001b[0m\n",
      "validate_data.py::test_crop_types_are_valid \u001b[32mPASSED\u001b[0m\u001b[32m                       [100%]\u001b[0m\n",
      "\n",
      "\u001b[32m============================== \u001b[32m\u001b[1m4 passed\u001b[0m\u001b[32m in 6.60s\u001b[0m\u001b[32m ==============================\u001b[0m\n",
      "Deleted sampled_field_df.csv\n"
     ]
    }
   ],
   "source": [
    "# Validate the data\n",
    "#!pip install pytest\n",
    "\n",
    "dataset.to_csv('sampled_field_df.csv', index=False)\n",
    "\n",
    "!pytest validate_data.py -v\n",
    "\n",
    "import os# Define the file paths\n",
    "field_csv_path = 'sampled_field_df.csv'\n",
    "\n",
    "# Delete sampled_field_df.csv if it exists\n",
    "if os.path.exists(field_csv_path):\n",
    "    os.remove(field_csv_path)\n",
    "    print(f\"Deleted {field_csv_path}\")\n",
    "else:\n",
    "    print(f\"{field_csv_path} does not exist.\")"
   ]
  },
  {
   "cell_type": "markdown",
   "metadata": {},
   "source": [
    "## Understanding our variables and variable selection\n",
    "In this section, we will analyse the predictor variables in our dataset and how they relate to the target variable."
   ]
  },
  {
   "cell_type": "markdown",
   "metadata": {},
   "source": [
    "### Step 1\n",
    "Finding out how many predictors we originally have in our dataset, and which of these are categorical in nature."
   ]
  },
  {
   "cell_type": "code",
   "execution_count": 54,
   "metadata": {},
   "outputs": [
    {
     "name": "stdout",
     "output_type": "stream",
     "text": [
      "<class 'pandas.core.frame.DataFrame'>\n",
      "RangeIndex: 5654 entries, 0 to 5653\n",
      "Data columns (total 19 columns):\n",
      " #   Column             Non-Null Count  Dtype  \n",
      "---  ------             --------------  -----  \n",
      " 0   Field_ID           5654 non-null   int64  \n",
      " 1   Elevation          5654 non-null   float64\n",
      " 2   Latitude           5654 non-null   float64\n",
      " 3   Longitude          5654 non-null   float64\n",
      " 4   Location           5654 non-null   object \n",
      " 5   Slope              5654 non-null   float64\n",
      " 6   Rainfall           5654 non-null   float64\n",
      " 7   Min_temperature_C  5654 non-null   float64\n",
      " 8   Max_temperature_C  5654 non-null   float64\n",
      " 9   Ave_temps          5654 non-null   float64\n",
      " 10  Soil_fertility     5654 non-null   float64\n",
      " 11  Soil_type          5654 non-null   object \n",
      " 12  pH                 5654 non-null   float64\n",
      " 13  Pollution_level    5654 non-null   float64\n",
      " 14  Plot_size          5654 non-null   float64\n",
      " 15  Annual_yield       5654 non-null   float64\n",
      " 16  Crop_type          5654 non-null   object \n",
      " 17  Standard_yield     5654 non-null   float64\n",
      " 18  Temperature_Range  5654 non-null   float64\n",
      "dtypes: float64(15), int64(1), object(3)\n",
      "memory usage: 839.4+ KB\n"
     ]
    }
   ],
   "source": [
    "dataset.info()"
   ]
  },
  {
   "cell_type": "markdown",
   "metadata": {
    "scrolled": true
   },
   "source": [
    "It appears there are 16 predictors; Location, Soil_type, and Crop_type are categorical."
   ]
  },
  {
   "cell_type": "markdown",
   "metadata": {},
   "source": [
    "### Step 2\n",
    "The categorical features in our dataset need to be converted into a format suitable for modeling. We apply dummy variable encoding to these categorical features, then examine how many independent variables we now have.\n",
    "\n",
    "We set the `drop_first` parameter to True."
   ]
  },
  {
   "cell_type": "code",
   "execution_count": 4,
   "metadata": {},
   "outputs": [
    {
     "name": "stdout",
     "output_type": "stream",
     "text": [
      "Number of independent variables after dummy variable encoding: 31\n",
      "<class 'pandas.core.frame.DataFrame'>\n",
      "RangeIndex: 5654 entries, 0 to 5653\n",
      "Data columns (total 31 columns):\n",
      " #   Column                   Non-Null Count  Dtype  \n",
      "---  ------                   --------------  -----  \n",
      " 0   Field_ID                 5654 non-null   int64  \n",
      " 1   Elevation                5654 non-null   float64\n",
      " 2   Latitude                 5654 non-null   float64\n",
      " 3   Longitude                5654 non-null   float64\n",
      " 4   Slope                    5654 non-null   float64\n",
      " 5   Rainfall                 5654 non-null   float64\n",
      " 6   Min_temperature_C        5654 non-null   float64\n",
      " 7   Max_temperature_C        5654 non-null   float64\n",
      " 8   Ave_temps                5654 non-null   float64\n",
      " 9   Soil_fertility           5654 non-null   float64\n",
      " 10  pH                       5654 non-null   float64\n",
      " 11  Pollution_level          5654 non-null   float64\n",
      " 12  Plot_size                5654 non-null   float64\n",
      " 13  Annual_yield             5654 non-null   float64\n",
      " 14  Standard_yield           5654 non-null   float64\n",
      " 15  Location_Rural_Amanzi    5654 non-null   int32  \n",
      " 16  Location_Rural_Hawassa   5654 non-null   int32  \n",
      " 17  Location_Rural_Kilimani  5654 non-null   int32  \n",
      " 18  Location_Rural_Sokoto    5654 non-null   int32  \n",
      " 19  Soil_type_Peaty          5654 non-null   int32  \n",
      " 20  Soil_type_Rocky          5654 non-null   int32  \n",
      " 21  Soil_type_Sandy          5654 non-null   int32  \n",
      " 22  Soil_type_Silt           5654 non-null   int32  \n",
      " 23  Soil_type_Volcanic       5654 non-null   int32  \n",
      " 24  Crop_type_cassava        5654 non-null   int32  \n",
      " 25  Crop_type_coffee         5654 non-null   int32  \n",
      " 26  Crop_type_maize          5654 non-null   int32  \n",
      " 27  Crop_type_potato         5654 non-null   int32  \n",
      " 28  Crop_type_rice           5654 non-null   int32  \n",
      " 29  Crop_type_tea            5654 non-null   int32  \n",
      " 30  Crop_type_wheat          5654 non-null   int32  \n",
      "dtypes: float64(14), int32(16), int64(1)\n",
      "memory usage: 1016.1 KB\n"
     ]
    }
   ],
   "source": [
    "'''\n",
    "print(dataset['Location'].unique());\n",
    "print('Locations: ', len(dataset['Location'].unique()));\n",
    "print(dataset['Soil_type'].unique());\n",
    "print('Soil types: ', len(dataset['Soil_type'].unique()));\n",
    "print(dataset['Crop_type'].unique());\n",
    "print('Crop types: ', len(dataset['Crop_type'].unique()));\n",
    "'''\n",
    "encoded_data = pd.get_dummies(dataset, drop_first=True)\n",
    "# categorical_features = dataset.drop(columns=['Field_ID'])\n",
    "\n",
    "# Count the number of independent variables\n",
    "num_independent_variables = encoded_data.shape[1]\n",
    "print(\"Number of independent variables after dummy variable encoding:\", num_independent_variables)\n",
    "\n",
    "encoded_data['Location_Rural_Amanzi'] = encoded_data['Location_Rural_Amanzi'].astype(int)\n",
    "encoded_data['Location_Rural_Hawassa'] = encoded_data['Location_Rural_Hawassa'].astype(int)\n",
    "encoded_data['Location_Rural_Kilimani'] = encoded_data['Location_Rural_Kilimani'].astype(int)\n",
    "encoded_data['Location_Rural_Sokoto'] = encoded_data['Location_Rural_Sokoto'].astype(int)\n",
    "encoded_data['Soil_type_Peaty'] = encoded_data['Soil_type_Peaty'].astype(int)\n",
    "encoded_data['Soil_type_Rocky'] = encoded_data['Soil_type_Rocky'].astype(int)\n",
    "encoded_data['Soil_type_Sandy'] = encoded_data['Soil_type_Sandy'].astype(int)\n",
    "encoded_data['Soil_type_Silt'] = encoded_data['Soil_type_Silt'].astype(int)\n",
    "encoded_data['Soil_type_Volcanic'] = encoded_data['Soil_type_Volcanic'].astype(int)\n",
    "encoded_data['Crop_type_cassava'] = encoded_data['Crop_type_cassava'].astype(int)\n",
    "encoded_data['Crop_type_coffee'] = encoded_data['Crop_type_coffee'].astype(int)\n",
    "encoded_data['Crop_type_maize'] = encoded_data['Crop_type_maize'].astype(int)\n",
    "encoded_data['Crop_type_potato'] = encoded_data['Crop_type_potato'].astype(int)\n",
    "encoded_data['Crop_type_rice'] = encoded_data['Crop_type_rice'].astype(int)\n",
    "encoded_data['Crop_type_tea'] = encoded_data['Crop_type_tea'].astype(int)\n",
    "encoded_data['Crop_type_wheat'] = encoded_data['Crop_type_wheat'].astype(int)\n",
    "\n",
    "encoded_data.info()"
   ]
  },
  {
   "cell_type": "markdown",
   "metadata": {},
   "source": [
    "There seem to be 29 Variables (31 then exclude Standard_yield and FieldID (and Temperature_Range which gets added later))"
   ]
  },
  {
   "cell_type": "markdown",
   "metadata": {},
   "source": [
    "### Step 3\n",
    "\n",
    "From our encoded dataset, we seek to find out which variable has the third highest absolute correlation with the `Standard_yield`, excluding the variable itself."
   ]
  },
  {
   "cell_type": "code",
   "execution_count": 56,
   "metadata": {},
   "outputs": [
    {
     "name": "stdout",
     "output_type": "stream",
     "text": [
      "Correlation with Standard Yield: \n",
      " Standard_yield             1.000000\n",
      "Crop_type_tea              0.432879\n",
      "Soil_type_Volcanic         0.309982\n",
      "Pollution_level            0.285761\n",
      "Crop_type_coffee           0.222217\n",
      "Annual_yield               0.220812\n",
      "Location_Rural_Sokoto      0.212337\n",
      "Soil_type_Silt             0.205861\n",
      "pH                         0.196613\n",
      "Crop_type_cassava          0.186716\n",
      "Crop_type_potato           0.175484\n",
      "Soil_type_Sandy            0.164714\n",
      "Min_temperature_C          0.144233\n",
      "Temperature_Range          0.142012\n",
      "Soil_type_Peaty            0.135509\n",
      "Elevation                  0.129248\n",
      "Max_temperature_C          0.111649\n",
      "Location_Rural_Hawassa     0.110623\n",
      "Crop_type_rice             0.104056\n",
      "Crop_type_wheat            0.092420\n",
      "Longitude                  0.085343\n",
      "Soil_type_Rocky            0.078355\n",
      "Soil_fertility             0.070205\n",
      "Latitude                   0.061724\n",
      "Slope                      0.056991\n",
      "Rainfall                   0.039217\n",
      "Location_Rural_Amanzi      0.032049\n",
      "Field_ID                   0.030802\n",
      "Plot_size                  0.017014\n",
      "Location_Rural_Kilimani    0.014778\n",
      "Crop_type_maize            0.008100\n",
      "Ave_temps                  0.006786\n",
      "Name: Standard_yield, dtype: float64\n"
     ]
    },
    {
     "data": {
      "text/plain": [
       "'\\nplt.figure(figsize=(12, 10))\\nsns.heatmap(corr_matrix, annot=True, cmap=\\'coolwarm\\', fmt=\".2f\", linewidths=0.5)\\nplt.title(\\'Correlation Matrix\\')\\nplt.show()\\n'"
      ]
     },
     "execution_count": 56,
     "metadata": {},
     "output_type": "execute_result"
    }
   ],
   "source": [
    "#Get a dataframe for non numeric so that we can use .corr()\n",
    "corr_matrix = encoded_data.corr()\n",
    "#Print out the correlation values in descending order\n",
    "print('Correlation with Standard Yield: \\n', abs(corr_matrix['Standard_yield']).sort_values(ascending = False))\n",
    "\n",
    "# Plot the correlation matrix as a heatmap\n",
    "'''\n",
    "plt.figure(figsize=(12, 10))\n",
    "sns.heatmap(corr_matrix, annot=True, cmap='coolwarm', fmt=\".2f\", linewidths=0.5)\n",
    "plt.title('Correlation Matrix')\n",
    "plt.show()\n",
    "'''"
   ]
  },
  {
   "cell_type": "markdown",
   "metadata": {},
   "source": [
    "It appears to be Pollution_level           (with 0.285761)"
   ]
  },
  {
   "cell_type": "markdown",
   "metadata": {},
   "source": [
    "In order to fit an ordinary least squares regression model to our encoded data we would need to make sure that all our variables are numeric. Through dummy variable encoding, we converted our categorical variables to multiple int/boolean variables (depending on the environment you are working on). The `sm.OLS()` method itself does not inherently handle boolean data types implicitly.\n",
    "\n",
    "In most cases, when fitting a model with sm.OLS(), it's essential to ensure that all features are numeric. If boolean columns are present, they should be explicitly converted to numeric types before fitting the model.\n",
    "\n",
    "If we converted our columns to boolean datatypes, the boolean columns have been replaced with binary integer representations, with True converted to 1 and False converted to 0."
   ]
  },
  {
   "cell_type": "markdown",
   "metadata": {},
   "source": [
    "### Step 4\n",
    "\n",
    "\n",
    "SIn order to determine which of the predictors in our dataset are statistically significant. We will follow the following steps:\n",
    "\n",
    "* Fit a statsmodels regression model to predict `Standard_yield` using our encoded dataset.\n",
    "* Extract p-values for each predictor from the fitted model to find the ones that are significant based on a given threshold."
   ]
  },
  {
   "cell_type": "code",
   "execution_count": 7,
   "metadata": {},
   "outputs": [
    {
     "name": "stdout",
     "output_type": "stream",
     "text": [
      "Standard_yield ~ Field_ID+Elevation+Latitude+Longitude+Slope+Rainfall+Min_temperature_C+Max_temperature_C+Ave_temps+Soil_fertility+pH+Pollution_level+Plot_size+Annual_yield+Location_Rural_Amanzi+Location_Rural_Hawassa+Location_Rural_Kilimani+Location_Rural_Sokoto+Soil_type_Peaty+Soil_type_Rocky+Soil_type_Sandy+Soil_type_Silt+Soil_type_Volcanic+Crop_type_cassava+Crop_type_coffee+Crop_type_maize+Crop_type_potato+Crop_type_rice+Crop_type_tea+Crop_type_wheat\n",
      "                            OLS Regression Results                            \n",
      "==============================================================================\n",
      "Dep. Variable:         Standard_yield   R-squared:                       0.757\n",
      "Model:                            OLS   Adj. R-squared:                  0.755\n",
      "Method:                 Least Squares   F-statistic:                     602.9\n",
      "Date:                Sat, 06 Apr 2024   Prob (F-statistic):               0.00\n",
      "Time:                        17:33:04   Log-Likelihood:                 8360.5\n",
      "No. Observations:                5654   AIC:                        -1.666e+04\n",
      "Df Residuals:                    5624   BIC:                        -1.646e+04\n",
      "Df Model:                          29                                         \n",
      "Covariance Type:            nonrobust                                         \n",
      "===========================================================================================\n",
      "                              coef    std err          t      P>|t|      [0.025      0.975]\n",
      "-------------------------------------------------------------------------------------------\n",
      "Intercept                   0.6943      0.183      3.786      0.000       0.335       1.054\n",
      "Field_ID                 1.217e-07   5.62e-08      2.167      0.030    1.16e-08    2.32e-07\n",
      "Elevation               -6.035e-05      0.000     -0.582      0.561      -0.000       0.000\n",
      "Latitude                   -0.0024      0.001     -3.440      0.001      -0.004      -0.001\n",
      "Longitude                  -0.0013      0.001     -2.063      0.039      -0.003   -6.67e-05\n",
      "Slope                       0.0015      0.001      1.811      0.070      -0.000       0.003\n",
      "Rainfall                 4.395e-05   2.24e-05      1.962      0.050    4.08e-08    8.79e-05\n",
      "Min_temperature_C           0.0116      0.010      1.223      0.222      -0.007       0.030\n",
      "Max_temperature_C          -0.0025      0.002     -1.280      0.200      -0.006       0.001\n",
      "Ave_temps                   0.0046      0.004      1.200      0.230      -0.003       0.012\n",
      "Soil_fertility             -0.3666      0.257     -1.424      0.154      -0.871       0.138\n",
      "pH                          0.0206      0.001     14.511      0.000       0.018       0.023\n",
      "Pollution_level            -0.1663      0.005    -35.292      0.000      -0.176      -0.157\n",
      "Plot_size                  -0.0429      0.001    -50.443      0.000      -0.045      -0.041\n",
      "Annual_yield                0.0811      0.002     53.298      0.000       0.078       0.084\n",
      "Location_Rural_Amanzi       0.0062      0.005      1.324      0.185      -0.003       0.015\n",
      "Location_Rural_Hawassa     -0.0002      0.003     -0.051      0.959      -0.007       0.007\n",
      "Location_Rural_Kilimani     0.0130      0.004      3.152      0.002       0.005       0.021\n",
      "Location_Rural_Sokoto       0.0354      0.005      7.561      0.000       0.026       0.045\n",
      "Soil_type_Peaty            -0.0966      0.006    -16.835      0.000      -0.108      -0.085\n",
      "Soil_type_Rocky            -0.1020      0.005    -19.688      0.000      -0.112      -0.092\n",
      "Soil_type_Sandy            -0.0744      0.003    -23.919      0.000      -0.080      -0.068\n",
      "Soil_type_Silt             -0.1178      0.005    -25.508      0.000      -0.127      -0.109\n",
      "Soil_type_Volcanic         -0.0533      0.004    -12.593      0.000      -0.062      -0.045\n",
      "Crop_type_cassava           0.0344      0.003      9.836      0.000       0.028       0.041\n",
      "Crop_type_coffee           -0.0030      0.003     -0.896      0.371      -0.009       0.004\n",
      "Crop_type_maize             0.0504      0.004     11.773      0.000       0.042       0.059\n",
      "Crop_type_potato            0.0997      0.004     25.996      0.000       0.092       0.107\n",
      "Crop_type_rice              0.1011      0.004     23.600      0.000       0.093       0.109\n",
      "Crop_type_tea               0.1161      0.004     31.141      0.000       0.109       0.123\n",
      "Crop_type_wheat             0.0467      0.003     15.018      0.000       0.041       0.053\n",
      "==============================================================================\n",
      "Omnibus:                       68.050   Durbin-Watson:                   1.947\n",
      "Prob(Omnibus):                  0.000   Jarque-Bera (JB):               86.715\n",
      "Skew:                          -0.182   Prob(JB):                     1.48e-19\n",
      "Kurtosis:                       3.485   Cond. No.                     1.16e+16\n",
      "==============================================================================\n",
      "\n",
      "Notes:\n",
      "[1] Standard Errors assume that the covariance matrix of the errors is correctly specified.\n",
      "[2] The smallest eigenvalue is 2.9e-20. This might indicate that there are\n",
      "strong multicollinearity problems or that the design matrix is singular.\n"
     ]
    }
   ],
   "source": [
    "formula_str = encoded_data.columns[14]+' ~ '+'+'.join(encoded_data.columns[:14])+'+'+'+'.join(encoded_data.columns[15:])\n",
    "print(formula_str);\n",
    "model=smf.ols(formula=formula_str, data=encoded_data)\n",
    "fitted = model.fit();\n",
    "print(fitted.summary())"
   ]
  },
  {
   "cell_type": "markdown",
   "metadata": {},
   "source": [
    "Since we have determined which variables are statistically significant for predicting `Standard_yield`, based on a p-value threshold of 0.05 `(p-value < 0.05)`, we proceed to building the model."
   ]
  },
  {
   "cell_type": "markdown",
   "metadata": {},
   "source": [
    "## Generating a multiple linear regression model\n",
    "\n",
    "After encoding our variables and performing preliminary analysis, let's continue our efforts to identify the variables that will enable us to construct the most accurate multiple linear regression model possible with the data that we have."
   ]
  },
  {
   "cell_type": "markdown",
   "metadata": {},
   "source": [
    "### Step 5\n",
    "Create a correlation matrix using all the columns in our encoded dataset and display it as a heatmap.<br>"
   ]
  },
  {
   "cell_type": "code",
   "execution_count": 1,
   "metadata": {
    "scrolled": true
   },
   "outputs": [
    {
     "ename": "NameError",
     "evalue": "name 'plt' is not defined",
     "output_type": "error",
     "traceback": [
      "\u001b[1;31m---------------------------------------------------------------------------\u001b[0m",
      "\u001b[1;31mNameError\u001b[0m                                 Traceback (most recent call last)",
      "Cell \u001b[1;32mIn[1], line 2\u001b[0m\n\u001b[0;32m      1\u001b[0m \u001b[38;5;66;03m# Generating and visualising the Correlation Matrix\u001b[39;00m\n\u001b[1;32m----> 2\u001b[0m \u001b[43mplt\u001b[49m\u001b[38;5;241m.\u001b[39mfigure(figsize\u001b[38;5;241m=\u001b[39m(\u001b[38;5;241m16\u001b[39m, \u001b[38;5;241m30\u001b[39m))\n\u001b[0;32m      3\u001b[0m sns\u001b[38;5;241m.\u001b[39mheatmap(corr_matrix, annot\u001b[38;5;241m=\u001b[39m\u001b[38;5;28;01mTrue\u001b[39;00m, cmap\u001b[38;5;241m=\u001b[39m\u001b[38;5;124m'\u001b[39m\u001b[38;5;124mcoolwarm\u001b[39m\u001b[38;5;124m'\u001b[39m, fmt\u001b[38;5;241m=\u001b[39m\u001b[38;5;124m\"\u001b[39m\u001b[38;5;124m.2f\u001b[39m\u001b[38;5;124m\"\u001b[39m, linewidths\u001b[38;5;241m=\u001b[39m\u001b[38;5;241m0.5\u001b[39m)\n\u001b[0;32m      4\u001b[0m plt\u001b[38;5;241m.\u001b[39mtitle(\u001b[38;5;124m'\u001b[39m\u001b[38;5;124mCorrelation Matrix\u001b[39m\u001b[38;5;124m'\u001b[39m)\n",
      "\u001b[1;31mNameError\u001b[0m: name 'plt' is not defined"
     ]
    }
   ],
   "source": [
    "# Generating and visualising the Correlation Matrix\n",
    "plt.figure(figsize=(16, 30))\n",
    "sns.heatmap(corr_matrix, annot=True, cmap='coolwarm', fmt=\".2f\", linewidths=0.5)\n",
    "plt.title('Correlation Matrix')\n",
    "plt.show()"
   ]
  },
  {
   "cell_type": "markdown",
   "metadata": {},
   "source": [
    "### Step 6\n",
    "Now that we have analysed our variables, let's fit an ordinary least squares regression model using `statsmodels.formula.api` and then print the model summary. Construct the model using all the independent variables in our encoded dataset (excuding `Field_ID`).<br>nt effect on the dependent variable."
   ]
  },
  {
   "cell_type": "code",
   "execution_count": 9,
   "metadata": {},
   "outputs": [
    {
     "name": "stdout",
     "output_type": "stream",
     "text": [
      "Standard_yield ~ Elevation+Latitude+Longitude+Slope+Rainfall+Min_temperature_C+Max_temperature_C+Ave_temps+Soil_fertility+pH+Pollution_level+Plot_size+Annual_yield+Location_Rural_Amanzi+Location_Rural_Hawassa+Location_Rural_Kilimani+Location_Rural_Sokoto+Soil_type_Peaty+Soil_type_Rocky+Soil_type_Sandy+Soil_type_Silt+Soil_type_Volcanic+Crop_type_cassava+Crop_type_coffee+Crop_type_maize+Crop_type_potato+Crop_type_rice+Crop_type_tea+Crop_type_wheat\n",
      "                            OLS Regression Results                            \n",
      "==============================================================================\n",
      "Dep. Variable:         Standard_yield   R-squared:                       0.756\n",
      "Model:                            OLS   Adj. R-squared:                  0.755\n",
      "Method:                 Least Squares   F-statistic:                     623.8\n",
      "Date:                Sat, 06 Apr 2024   Prob (F-statistic):               0.00\n",
      "Time:                        17:33:07   Log-Likelihood:                 8358.2\n",
      "No. Observations:                5654   AIC:                        -1.666e+04\n",
      "Df Residuals:                    5625   BIC:                        -1.647e+04\n",
      "Df Model:                          28                                         \n",
      "Covariance Type:            nonrobust                                         \n",
      "===========================================================================================\n",
      "                              coef    std err          t      P>|t|      [0.025      0.975]\n",
      "-------------------------------------------------------------------------------------------\n",
      "Intercept                   0.6982      0.183      3.806      0.000       0.339       1.058\n",
      "Elevation               -6.517e-05      0.000     -0.628      0.530      -0.000       0.000\n",
      "Latitude                   -0.0023      0.001     -3.372      0.001      -0.004      -0.001\n",
      "Longitude                  -0.0014      0.001     -2.088      0.037      -0.003   -8.32e-05\n",
      "Slope                       0.0014      0.001      1.769      0.077      -0.000       0.003\n",
      "Rainfall                  4.27e-05   2.24e-05      1.906      0.057   -1.21e-06    8.66e-05\n",
      "Min_temperature_C           0.0121      0.010      1.273      0.203      -0.007       0.031\n",
      "Max_temperature_C          -0.0026      0.002     -1.328      0.184      -0.006       0.001\n",
      "Ave_temps                   0.0048      0.004      1.250      0.211      -0.003       0.012\n",
      "Soil_fertility             -0.3560      0.257     -1.383      0.167      -0.861       0.149\n",
      "pH                          0.0206      0.001     14.509      0.000       0.018       0.023\n",
      "Pollution_level            -0.1665      0.005    -35.319      0.000      -0.176      -0.157\n",
      "Plot_size                  -0.0429      0.001    -50.411      0.000      -0.045      -0.041\n",
      "Annual_yield                0.0811      0.002     53.269      0.000       0.078       0.084\n",
      "Location_Rural_Amanzi       0.0062      0.005      1.325      0.185      -0.003       0.015\n",
      "Location_Rural_Hawassa     -0.0001      0.003     -0.040      0.968      -0.007       0.007\n",
      "Location_Rural_Kilimani     0.0128      0.004      3.111      0.002       0.005       0.021\n",
      "Location_Rural_Sokoto       0.0355      0.005      7.570      0.000       0.026       0.045\n",
      "Soil_type_Peaty            -0.0963      0.006    -16.784      0.000      -0.108      -0.085\n",
      "Soil_type_Rocky            -0.1022      0.005    -19.741      0.000      -0.112      -0.092\n",
      "Soil_type_Sandy            -0.0744      0.003    -23.917      0.000      -0.081      -0.068\n",
      "Soil_type_Silt             -0.1178      0.005    -25.492      0.000      -0.127      -0.109\n",
      "Soil_type_Volcanic         -0.0534      0.004    -12.605      0.000      -0.062      -0.045\n",
      "Crop_type_cassava           0.0344      0.003      9.842      0.000       0.028       0.041\n",
      "Crop_type_coffee           -0.0029      0.003     -0.891      0.373      -0.009       0.004\n",
      "Crop_type_maize             0.0505      0.004     11.792      0.000       0.042       0.059\n",
      "Crop_type_potato            0.0998      0.004     26.015      0.000       0.092       0.107\n",
      "Crop_type_rice              0.1011      0.004     23.605      0.000       0.093       0.110\n",
      "Crop_type_tea               0.1162      0.004     31.166      0.000       0.109       0.123\n",
      "Crop_type_wheat             0.0468      0.003     15.040      0.000       0.041       0.053\n",
      "==============================================================================\n",
      "Omnibus:                       67.669   Durbin-Watson:                   1.947\n",
      "Prob(Omnibus):                  0.000   Jarque-Bera (JB):               85.983\n",
      "Skew:                          -0.182   Prob(JB):                     2.13e-19\n",
      "Kurtosis:                       3.482   Cond. No.                     1.05e+16\n",
      "==============================================================================\n",
      "\n",
      "Notes:\n",
      "[1] Standard Errors assume that the covariance matrix of the errors is correctly specified.\n",
      "[2] The smallest eigenvalue is 1.05e-22. This might indicate that there are\n",
      "strong multicollinearity problems or that the design matrix is singular.\n"
     ]
    }
   ],
   "source": [
    "formula_str2 = encoded_data.columns[14]+' ~ '+'+'.join(encoded_data.columns[1:14])+'+'+'+'.join(encoded_data.columns[15:])\n",
    "print(formula_str2);\n",
    "model2=smf.ols(formula=formula_str2, data=encoded_data)\n",
    "fitted2 = model2.fit();\n",
    "print(fitted2.summary())"
   ]
  },
  {
   "cell_type": "markdown",
   "metadata": {},
   "source": [
    "The F-statistic tests the overall significance of the regression model. A high F-statistic value with a corresponding low p-value indicates that the regression model is statistically significant, meaning that at least one of the independent variables has a significant effect on the dependent variable."
   ]
  },
  {
   "attachments": {},
   "cell_type": "markdown",
   "metadata": {},
   "source": [
    "### Step 7\n",
    "\n",
    "This summary  gives us an indication of possible multicollinearity present within our predictor variables. The presence of any correlation among predictors is detrimental to model quality because it tends to increase the standard error of the coefficients and it becomes difficult to estimate the effect of any one predictor variable on the response variable.\n",
    "\n",
    "To avoid this, let's reduce the number of independent variables included in our model.\n",
    "Fit the model using the following variables:<br>\n",
    "\n",
    "* `Pollution_level` \n",
    "* `Crop_type_coffee` \n",
    "* `Crop_type_tea`\n",
    "* `Location_Rural_Sokoto`\n",
    "* `Annual_yield` \n",
    "* `Soil_type_Silt`\n",
    "* `Soil_type_Volcanic`"
   ]
  },
  {
   "cell_type": "code",
   "execution_count": 10,
   "metadata": {},
   "outputs": [
    {
     "name": "stdout",
     "output_type": "stream",
     "text": [
      "Standard_yield ~ Pollution_level+Crop_type_coffee+Crop_type_tea+Location_Rural_Sokoto+Annual_yield+Soil_type_Silt+Soil_type_Volcanic\n",
      "                            OLS Regression Results                            \n",
      "==============================================================================\n",
      "Dep. Variable:         Standard_yield   R-squared:                       0.406\n",
      "Model:                            OLS   Adj. R-squared:                  0.406\n",
      "Method:                 Least Squares   F-statistic:                     552.1\n",
      "Date:                Sat, 06 Apr 2024   Prob (F-statistic):               0.00\n",
      "Time:                        17:33:07   Log-Likelihood:                 5839.8\n",
      "No. Observations:                5654   AIC:                        -1.166e+04\n",
      "Df Residuals:                    5646   BIC:                        -1.161e+04\n",
      "Df Model:                           7                                         \n",
      "Covariance Type:            nonrobust                                         \n",
      "=========================================================================================\n",
      "                            coef    std err          t      P>|t|      [0.025      0.975]\n",
      "-----------------------------------------------------------------------------------------\n",
      "Intercept                 0.5690      0.003    212.947      0.000       0.564       0.574\n",
      "Pollution_level          -0.2237      0.006    -37.672      0.000      -0.235      -0.212\n",
      "Crop_type_coffee         -0.0556      0.004    -14.370      0.000      -0.063      -0.048\n",
      "Crop_type_tea             0.0931      0.004     23.626      0.000       0.085       0.101\n",
      "Location_Rural_Sokoto     0.0647      0.004     16.768      0.000       0.057       0.072\n",
      "Annual_yield              0.0071      0.001     11.824      0.000       0.006       0.008\n",
      "Soil_type_Silt           -0.0693      0.003    -21.619      0.000      -0.076      -0.063\n",
      "Soil_type_Volcanic       -0.0127      0.004     -3.288      0.001      -0.020      -0.005\n",
      "==============================================================================\n",
      "Omnibus:                      111.561   Durbin-Watson:                   1.967\n",
      "Prob(Omnibus):                  0.000   Jarque-Bera (JB):              117.254\n",
      "Skew:                          -0.348   Prob(JB):                     3.46e-26\n",
      "Kurtosis:                       2.880   Cond. No.                         17.5\n",
      "==============================================================================\n",
      "\n",
      "Notes:\n",
      "[1] Standard Errors assume that the covariance matrix of the errors is correctly specified.\n"
     ]
    }
   ],
   "source": [
    "formula_str2 = encoded_data.columns[14]+' ~ '+'Pollution_level+Crop_type_coffee+Crop_type_tea+Location_Rural_Sokoto+Annual_yield+Soil_type_Silt+Soil_type_Volcanic'\n",
    "print(formula_str2);\n",
    "model2=smf.ols(formula=formula_str2, data=encoded_data)\n",
    "fitted2 = model2.fit();\n",
    "print(fitted2.summary())"
   ]
  },
  {
   "cell_type": "markdown",
   "metadata": {},
   "source": [
    "After reducing the number of dependent variables accordingly, the R squared, adjusted R squared and F statistic all reduced. This implies that the model worsened."
   ]
  },
  {
   "cell_type": "markdown",
   "metadata": {},
   "source": [
    "### QStep 8\n",
    "Let's evaluate our model's results. Generate a scatter plot of the residuals against the fitted values allowing us to visually inspect whether the residuals have constant variance and are distributed randomly around the zero residual line."
   ]
  },
  {
   "cell_type": "code",
   "execution_count": 11,
   "metadata": {},
   "outputs": [
    {
     "data": {
      "image/png": "[encoded data removed]",
      "text/plain": [
       "<Figure size 800x300 with 1 Axes>"
      ]
     },
     "metadata": {},
     "output_type": "display_data"
    }
   ],
   "source": [
    "plt.figure(figsize=(8,3))\n",
    "p=plt.scatter(x=fitted.fittedvalues,y=fitted.resid,edgecolor='k')\n",
    "xmin = min(fitted.fittedvalues)\n",
    "xmax = max(fitted.fittedvalues)\n",
    "plt.hlines(y=0,xmin=xmin*0.9,xmax=xmax*1.1,color='red',linestyle='--',lw=3)\n",
    "plt.xlabel(\"Fitted values\",fontsize=15)\n",
    "plt.ylabel(\"Residuals\",fontsize=15)\n",
    "plt.title(\"Fitted vs. residuals plot\",fontsize=18)\n",
    "plt.grid(True)\n",
    "plt.show()"
   ]
  },
  {
   "cell_type": "markdown",
   "metadata": {},
   "source": [
    "The plot indicates homoscedasticity as residuals have a constant variance and are distributed randomly around the zero residual line."
   ]
  },
  {
   "cell_type": "markdown",
   "metadata": {},
   "source": [
    "Since the linear regression model indicated heteroscedasticity, the following actions could be considered to address this issue\n",
    "\n",
    "* Applying transformations to the independent variables to better fit the linear relationship.\n",
    "* Implementing weighted least squares regression to give less emphasis to observations with higher variance in residuals.\n",
    "* Removing outliers from the dataset to reduce the impact of extreme values on the variance of residuals."
   ]
  },
  {
   "cell_type": "markdown",
   "metadata": {},
   "source": [
    "## Using regularisation to optimise agricultural yield\n",
    "\n",
    "Continuing with our task, after fitting our model, we decide to go back to the drawing board to explore more ways to implement feature engineering and data pre-processing in order to optimise our model. We suspect that, if we use all the variables available to us, the model might overfit due to the high dimensionality of the data. Regularisation techniques will therefore be critical in building a predictive model that generalises well to new, unseen data."
   ]
  },
  {
   "cell_type": "markdown",
   "metadata": {},
   "source": [
    "### Step 10\n",
    "Our first step in the feature engineering involves creating a new feature, `Temperature_Range`, and scaling features using `StandardScaler`. The difference between `Min_temperature_C` and `Max_temperature_C` is the temperature range."
   ]
  },
  {
   "cell_type": "code",
   "execution_count": 12,
   "metadata": {},
   "outputs": [
    {
     "name": "stdout",
     "output_type": "stream",
     "text": [
      "[[ 0.85426539  0.31997088 -0.15356676  2.21747303  0.30626766  0.01544079\n",
      "   0.71256827 -0.61634976]\n",
      " [ 0.21055364 -0.03858151  0.49777372  0.15900087 -0.25298298  0.4619994\n",
      "   0.08816394  0.7886906 ]\n",
      " [ 1.08748981 -0.04224188  2.01496684  0.09662293 -1.66755812  1.57839593\n",
      "  -0.34858051  0.60254524]\n",
      " [-0.3620941  -0.4856324  -1.74719984 -0.02813296  0.8984154  -1.77079366\n",
      "  -0.35345077  0.28374058]\n",
      " [ 1.43215211  4.53523034 -0.83392242  1.28180387 -0.58195394  2.24823384\n",
      "   0.14466333 -0.80437805]]\n"
     ]
    }
   ],
   "source": [
    "from sklearn.preprocessing import StandardScaler\n",
    "\n",
    "# Insert selected option here\n",
    "dataset['Temperature_Range'] = dataset['Max_temperature_C'] - dataset['Min_temperature_C']\n",
    "\n",
    "# Select features for scaling (exclude non-numeric or target variables)\n",
    "features = ['Elevation', 'Slope', 'Rainfall', 'Ave_temps', 'Temperature_Range', 'Soil_fertility', 'pH', 'Pollution_level']\n",
    "\n",
    "# Initialise StandardScaler and apply it to the features\n",
    "scaler = StandardScaler()\n",
    "scaled_features = scaler.fit_transform(dataset[features])\n",
    "\n",
    "# Show the first 5 rows of the scaled features\n",
    "print(scaled_features[:5])"
   ]
  },
  {
   "cell_type": "markdown",
   "metadata": {},
   "source": [
    "### Step 11\n",
    "\n",
    "\n",
    "We then employ LASSO regression to identify predictive features associated with our dependent variable.\n",
    "\n",
    "We implement the Python code block provided below."
   ]
  },
  {
   "cell_type": "code",
   "execution_count": 13,
   "metadata": {},
   "outputs": [],
   "source": [
    "from sklearn.linear_model import LassoCV\n",
    "\n",
    "# scaled_features is our matrix of scaled features and dataset['Standard_yield'] is the target variable\n",
    "lasso = LassoCV(cv=5).fit(scaled_features, dataset['Standard_yield'])\n",
    "\n",
    "# Find the features with non-zero coefficients\n",
    "selected_features = [features[i] for i, coef in enumerate(lasso.coef_) if coef != 0]"
   ]
  },
  {
   "cell_type": "markdown",
   "metadata": {},
   "source": [
    "### Step 12\n",
    "\n",
    "In trying to address multicollinearity in our dataset, we also decide to implement Ridge regression. After understanding that Ridge regression applies an L2 penalty to the coefficients to reduce their magnitude without setting them to zero, we decide to use `RidgeCV` for applying Ridge regression with cross-validation to select the optimal penalty strength. "
   ]
  },
  {
   "cell_type": "code",
   "execution_count": 14,
   "metadata": {},
   "outputs": [],
   "source": [
    "from sklearn.linear_model import RidgeCV\n",
    "\n",
    "# Insert selected option here\n",
    "alphas = [0.001, 0.01, 0.1, 1, 10, 100]\n",
    "\n",
    "# Apply Ridge regression with cross-validation\n",
    "ridge = RidgeCV(alphas=alphas, cv=5).fit(scaled_features, dataset['Standard_yield'])"
   ]
  },
  {
   "cell_type": "markdown",
   "metadata": {},
   "source": [
    "Answer: alphas = [0.001, 0.01, 0.1, 1, 10, 100]"
   ]
  },
  {
   "cell_type": "markdown",
   "metadata": {},
   "source": [
    "### Step 13\n",
    "\n",
    "Given our dataset includes variables such as `Elevation` and `Slope`, and considering the potential interactions between these variables might impact crop yield, we aim to capture both these interactions and possible non-linear relationships. We then create a quadratic interaction term without including an intercept in the feature set."
   ]
  },
  {
   "cell_type": "code",
   "execution_count": 15,
   "metadata": {},
   "outputs": [
    {
     "data": {
      "text/plain": [
       "(5654, 5)"
      ]
     },
     "execution_count": 15,
     "metadata": {},
     "output_type": "execute_result"
    }
   ],
   "source": [
    "from sklearn.preprocessing import PolynomialFeatures\n",
    "\n",
    "# Generate polynomial and interaction features\n",
    "poly = PolynomialFeatures(degree=2, include_bias=False)\n",
    "\n",
    "poly_features = poly.fit_transform(dataset[['Elevation', 'Slope']])\n",
    "\n",
    "# Display the shape of the new feature matrix\n",
    "poly_features.shape\n"
   ]
  },
  {
   "cell_type": "markdown",
   "metadata": {},
   "source": [
    "### Step 14\n",
    "\n",
    "After implementing Ridge regression to address multicollinearity and prevent overfitting in our model we need to interpret the coefficients to understand the impact of each feature on the standard yield."
   ]
  },
  {
   "cell_type": "code",
   "execution_count": 16,
   "metadata": {},
   "outputs": [
    {
     "data": {
      "text/plain": [
       "array([-0.13661379,  0.10262221, -0.07348657])"
      ]
     },
     "execution_count": 16,
     "metadata": {},
     "output_type": "execute_result"
    }
   ],
   "source": [
    "from sklearn.linear_model import Ridge\n",
    "import numpy as np\n",
    "\n",
    "# Assuming `X` is the feature matrix and `y` is the target variable\n",
    "X = np.array([[0.5, 0.2, 0.1],\n",
    "              [0.9, 0.3, 0.5],\n",
    "              [0.3, 0.8, 0.2]])\n",
    "y = np.array([0.7, 0.6, 0.8])\n",
    "\n",
    "# Fit Ridge regression model with alpha = 0.1\n",
    "ridge_model = Ridge(alpha=0.1)\n",
    "ridge_model.fit(X, y)\n",
    "\n",
    "# Display the coefficients of the model\n",
    "ridge_model.coef_\n"
   ]
  },
  {
   "cell_type": "markdown",
   "metadata": {},
   "source": [
    "It appears that feature 2 has the highest positive impact, while Feature 3 and Feature 1 have negative impacts."
   ]
  },
  {
   "cell_type": "markdown",
   "metadata": {},
   "source": [
    "## Making a prediction using decision trees\n",
    "\n",
    "After learning that decision trees are easy to implement and are capable of handling both categorical and numerical data while being resilient to outliers, we decide to implement a decision tree on our encoded dataset."
   ]
  },
  {
   "cell_type": "markdown",
   "metadata": {},
   "source": [
    "### Step 15\n",
    "Train a decision tree with the following specifications:\n",
    "* Using our **previously encoded dataset**, split the data into dependent and independent variables using all the features except for `Standard_yield` and `Field_ID` as independent variables.\n",
    "* Split the data into training and testing data.\n",
    "* Use the `DecisionTreeRegressor` to fit a model using a `max_depth' of 2 and a `random_state` of 42.\n",
    "\n",
    "Using the trained Decision Tree Regressor model, make a prediction for `y` given the following x-values:<br> \n",
    "`[864.66138, -8.12890218821531, -8.311822719284072, 16.274624300000003, 1237.7200000000003, -3.4100000000000006, 36.410000000000004,`\n",
    "`16.5,0.682, 6.7863323423108195, 0.09379352739936421, 1.4300000000000002, 0.8264890400277934,0.0,0.0,0.0,0.0,0.0,0.0,1.1,0.0,0.0,1.1,0.0, 0.0,0.0,0.0,0.0,0.0]`"
   ]
  },
  {
   "cell_type": "code",
   "execution_count": 7,
   "metadata": {},
   "outputs": [
    {
     "name": "stdout",
     "output_type": "stream",
     "text": [
      "[0.48494414]\n"
     ]
    },
    {
     "name": "stderr",
     "output_type": "stream",
     "text": [
      "c:\\Users\\klaig\\anaconda3\\Lib\\site-packages\\sklearn\\base.py:464: UserWarning: X does not have valid feature names, but DecisionTreeRegressor was fitted with feature names\n",
      "  warnings.warn(\n"
     ]
    }
   ],
   "source": [
    "from sklearn.model_selection import train_test_split\n",
    "from sklearn.tree import DecisionTreeRegressor\n",
    "\n",
    "\n",
    "y = encoded_data['Standard_yield']\n",
    "X = encoded_data.drop(columns = ['Standard_yield', 'Temperature_range', 'Field_ID'])\n",
    "\n",
    "X_train, X_test, y_train, y_test = train_test_split(X, y, test_size = 0.2, random_state = 42)\n",
    "\n",
    "dec_model = DecisionTreeRegressor(max_depth = 2, random_state = 42).fit(X_train, y_train)\n",
    "\n",
    "\n",
    "input_array = np.array([864.66138, -8.12890218821531, -8.311822719284072, 16.274624300000003, 1237.7200000000003, -3.4100000000000006,\n",
    "                        36.410000000000004, 16.5,0.682, 6.7863323423108195, 0.09379352739936421, 1.4300000000000002, 0.8264890400277934,\n",
    "                        0.0,0.0,0.0,0.0,0.0,0.0,1.1,0.0,0.0,1.1,0.0, 0.0,0.0,0.0,0.0,0.0])\n",
    "\n",
    "input_array = input_array.reshape(1, -1)\n",
    "\n",
    "y_pred = dec_model.predict(input_array)\n",
    "print(y_pred)"
   ]
  },
  {
   "cell_type": "markdown",
   "metadata": {},
   "source": [
    "### Step 16\n",
    "\n",
    "We calculate the model's RMSE to assess its performance"
   ]
  },
  {
   "cell_type": "code",
   "execution_count": 76,
   "metadata": {},
   "outputs": [
    {
     "name": "stdout",
     "output_type": "stream",
     "text": [
      "RMSE:  0.08805783663217344\n"
     ]
    }
   ],
   "source": [
    "from sklearn import metrics\n",
    "\n",
    "y_predictions = dec_model.predict(X_test)\n",
    "print('RMSE: ', np.sqrt(metrics.mean_squared_error(y_test, y_predictions)))"
   ]
  },
  {
   "cell_type": "markdown",
   "metadata": {},
   "source": [
    "An RMSE of 0.0881 suggests that, on average, the predicted values are off by approximately 0.0881 units"
   ]
  },
  {
   "cell_type": "markdown",
   "metadata": {},
   "source": [
    "### Step 17\n",
    "It is important to note that Higher max_depth values may lead to increased model complexity and a higher risk of overfitting. Let's attempt to enhance our model's performance by setting the `max_depth` hyperparameter to 5."
   ]
  },
  {
   "cell_type": "code",
   "execution_count": 77,
   "metadata": {},
   "outputs": [
    {
     "name": "stdout",
     "output_type": "stream",
     "text": [
      "RMSE:  0.06332974532698206\n"
     ]
    }
   ],
   "source": [
    "dec_model = DecisionTreeRegressor(max_depth = 5, random_state = 42)\n",
    "final = dec_model.fit(X_train, y_train)\n",
    "\n",
    "y_predictions = final.predict(X_test)\n",
    "print('RMSE: ', np.sqrt(metrics.mean_squared_error(y_test, y_predictions)))"
   ]
  },
  {
   "cell_type": "markdown",
   "metadata": {},
   "source": [
    "It appears that our model improved after setting it to 5."
   ]
  },
  {
   "cell_type": "markdown",
   "metadata": {},
   "source": [
    "## Ensemble Methods & Bootstrapping\n",
    "\n",
    "Using our original dataset, our objective is to explore ensemble methods and bootstrapping techniques to enhance the model performance. We'll work with a subset of features from the dataset to predict the `Standard_yield`."
   ]
  },
  {
   "cell_type": "markdown",
   "metadata": {},
   "source": [
    "### Step 18\n",
    "Consider the following approach to implement a bootstrap aggregation (bagging) for predicting the `Standard_yield` based on features `Elevation`, `Slope`, `Soil_fertility`, and `Pollution_level`. Given are the steps and part of the Python code implementing this method. Our task is to identify the correct piece of code that completes the implementation.\n",
    "\n",
    "The steps for the implementation are as follows:\n",
    "\n",
    "1. Create an empty list named `predictions` to store predictions from each bootstrap sample.\n",
    "2. Generate `n_bootstrap_samples` bootstrap samples from the original dataset.\n",
    "3. For each bootstrap sample, fit a linear regression model and predict the `Standard_yield` on the entire dataset.\n",
    "4. Store each set of predictions in the predictions list.\n",
    "5. Average the predictions across all bootstrap samples to obtain the final bagged prediction.\n",
    "6. Compute and print the mean squared error (MSE) to evaluate the performance of the bagged model.\n",
    "\n",
    "\n",
    "Below is the code block with a missing part that needs to be completed:"
   ]
  },
  {
   "cell_type": "code",
   "execution_count": 20,
   "metadata": {},
   "outputs": [
    {
     "name": "stdout",
     "output_type": "stream",
     "text": [
      "Mean Squared Error of Bagged Linear Regression Models: 0.010840463278725836\n"
     ]
    }
   ],
   "source": [
    "from sklearn.linear_model import LinearRegression\n",
    "from sklearn.metrics import mean_squared_error\n",
    "from sklearn.utils import resample\n",
    "import numpy as np\n",
    "\n",
    "# X_train, y_train represent the features and target variable from the training data\n",
    "X = dataset[['Elevation', 'Slope', 'Soil_fertility', 'Pollution_level']]\n",
    "y = dataset['Standard_yield']\n",
    "\n",
    "predictions = []\n",
    "n_bootstrap_samples = 100\n",
    "\n",
    "for _ in range(n_bootstrap_samples):\n",
    "    X_sample, y_sample = resample(X, y)\n",
    "    model = LinearRegression()\n",
    "    model.fit(X_sample, y_sample)\n",
    "    y_pred = model.predict(X)\n",
    "    predictions.append(y_pred)\n",
    "\n",
    "bagged_prediction = np.mean(predictions, axis=0)\n",
    "mse_bagged = mean_squared_error(y, bagged_prediction)\n",
    "\n",
    "print(f\"Mean Squared Error of Bagged Linear Regression Models: {mse_bagged}\")\n"
   ]
  },
  {
   "cell_type": "markdown",
   "metadata": {},
   "source": [
    "### Step 19\n",
    "\n",
    "We then implement the random subspace method by allowing the algorithm to select a random subset of features for each split."
   ]
  },
  {
   "cell_type": "code",
   "execution_count": 21,
   "metadata": {},
   "outputs": [
    {
     "name": "stdout",
     "output_type": "stream",
     "text": [
      "Mean Squared Error of Random Forest Regressor: 0.001106288853809326\n"
     ]
    }
   ],
   "source": [
    "from sklearn.ensemble import RandomForestRegressor\n",
    "from sklearn.metrics import mean_squared_error\n",
    "\n",
    "# Initialise and train the random forest model\n",
    "rf_model = RandomForestRegressor(n_estimators=100)\n",
    "rf_model.fit(X, y)\n",
    "\n",
    "# Predict using the random forest model\n",
    "y_pred_rf = rf_model.predict(X)\n",
    "\n",
    "# Evaluate the model\n",
    "mse_rf = mean_squared_error(y, y_pred_rf)\n",
    "print(f\"Mean Squared Error of Random Forest Regressor: {mse_rf}\")\n"
   ]
  },
  {
   "cell_type": "markdown",
   "metadata": {},
   "source": [
    "### Step 20\n",
    "\n",
    "Consider the theoretical setup for a stacking ensemble model designed for a regression task. The first layer of this model includes three different types of regression models: linear regression, ridge regression, and a support vector machine (SVM) with a linear kernel. The second layer, or the final estimator, uses a linear regression model to combine the predictions from the first layer. The goal is to theoretically predict `Standard_yield` based on features such as `Elevation`, `Slope`, `Soil_fertility`, and `Pollution_level`, with the intention to evaluate the model's hypothetical performance using the Mean Squared Error (MSE).\n",
    "\n",
    "We then initialise the stacking ensemble model's setup to correctly configure the SVM with a linear kernel as part of the base learners in the stacking model."
   ]
  },
  {
   "cell_type": "code",
   "execution_count": 22,
   "metadata": {},
   "outputs": [],
   "source": [
    "from sklearn.linear_model import LinearRegression, Ridge\n",
    "from sklearn.svm import SVR\n",
    "from sklearn.ensemble import StackingRegressor\n",
    "from sklearn.metrics import mean_squared_error\n",
    "\n",
    "# Define base learners\n",
    "estimators = [\n",
    "    ('lr', LinearRegression()),\n",
    "    ('ridge', Ridge()),\n",
    "    ('svr', SVR(kernel='linear'))\n",
    "]\n",
    "\n",
    "# Define the theoretical stacking model\n",
    "stacking_model = StackingRegressor(estimators=estimators, final_estimator=LinearRegression())\n",
    "\n",
    "# Note: Assume X, y represent the features and target variable respectively, for a theoretical prediction scenario."
   ]
  },
  {
   "cell_type": "markdown",
   "metadata": {},
   "source": [
    "### Step 21\n",
    "\n",
    "We then implement a 5-fold cross-validation scheme to estimate the accuracy of a ridge regression model. This model uses bootstrapped samples within each fold to predict `Standard_yield` and calculates the average Mean Squared Error (MSE) across all folds."
   ]
  },
  {
   "cell_type": "code",
   "execution_count": 23,
   "metadata": {},
   "outputs": [
    {
     "name": "stdout",
     "output_type": "stream",
     "text": [
      "Average Mean Squared Error from Cross-Validation: 0.010875483717316465\n"
     ]
    }
   ],
   "source": [
    "from sklearn.linear_model import Ridge\n",
    "from sklearn.model_selection import cross_val_score\n",
    "import numpy as np\n",
    "\n",
    "# Initialise the ridge regression model\n",
    "ridge_model = Ridge()\n",
    "\n",
    "# Perform 5-fold cross-validation with bootstrapping\n",
    "scores = cross_val_score(ridge_model, X, y, scoring='neg_mean_squared_error', cv=5) #add correct option here \n",
    "\n",
    "# Convert scores to positive MSE\n",
    "mse_scores = -scores\n",
    "\n",
    "# Calculate average MSE\n",
    "average_mse = np.mean(mse_scores)\n",
    "print(f\"Average Mean Squared Error from Cross-Validation: {average_mse}\")"
   ]
  },
  {
   "cell_type": "markdown",
   "metadata": {},
   "source": [
    "### Step 22\n",
    "\n",
    "We then extract and print the feature importances from a trained random forest regressor model. The model is used to predict `Standard_yield` based on various features. The code utilises the `feature_importances_` attribute of the random forest model to obtain importance scores for each feature.\n",
    "\n",
    "The code identifies and prints the importance scores for each feature in the random forest model, indicating how much each feature contributes to the model's ability to predict Standard_yield. Higher scores suggest a greater contribution to the prediction."
   ]
  },
  {
   "cell_type": "code",
   "execution_count": 24,
   "metadata": {},
   "outputs": [
    {
     "name": "stdout",
     "output_type": "stream",
     "text": [
      "Feature: Elevation, Importance: 0.32232527035278535\n",
      "Feature: Slope, Importance: 0.2175490659038575\n",
      "Feature: Soil_fertility, Importance: 0.15288060187033797\n",
      "Feature: Pollution_level, Importance: 0.30724506187301914\n"
     ]
    }
   ],
   "source": [
    "# Extract feature importances\n",
    "feature_importances = rf_model.feature_importances_\n",
    "\n",
    "# Print feature importances\n",
    "for feature, importance in zip(X.columns, feature_importances):\n",
    "    print(f\"Feature: {feature}, Importance: {importance}\")"
   ]
  },
  {
   "cell_type": "markdown",
   "metadata": {},
   "source": [
    "## Random forests\n",
    "In this stint, we want to test how our data fits to a random forest model and other functionalities that come with its such as analysing feature importance.\n",
    "\n",
    "We write a function named `train_rf_model` that trains and tests a random forest model on a given dataset. Our function does the following:\n",
    "\n",
    "* Take a `RandomForestRegressor` object (with any desired hyperparameters set) as input,\n",
    "* Separate the features `X` and target `y` dataframes\n",
    "* Split the data into training and testing sets - use a test size of `20%` and a random state of `42` for reproducibility\n",
    "* Fit the model to the training data\n",
    "* Make predictions on the testing set\n",
    "* Return the trained model, the R-squared score, and the Mean Squared Error (MSE) of the test set predictions."
   ]
  },
  {
   "attachments": {},
   "cell_type": "markdown",
   "metadata": {},
   "source": [
    "### Step 23\n",
    "Using the function, train a random forest model on our dataset with random_state set to 42, and max_depth=15, while leaving all other hyperparameters at their defaults. We Use all the features available in the encoded dataset for this task to find the R-squared and MSE scores for the model on the test data."
   ]
  },
  {
   "cell_type": "code",
   "execution_count": 79,
   "metadata": {},
   "outputs": [
    {
     "data": {
      "text/plain": [
       "(RandomForestRegressor(max_depth=15, random_state=42),\n",
       " 0.9583058352928558,\n",
       " 0.0005555925146927516)"
      ]
     },
     "execution_count": 79,
     "metadata": {},
     "output_type": "execute_result"
    }
   ],
   "source": [
    "from sklearn.metrics import r2_score\n",
    "\n",
    "def train_rf_model(dataframe, n_estimators, MaxDepth, random_state):\n",
    "    y = dataframe['Standard_yield']\n",
    "    X = dataframe.drop(columns = ['Standard_yield', 'Field_ID'])\n",
    "    X_train, X_test, y_train, y_test = train_test_split(X, y, test_size = 0.2, random_state = 42)\n",
    "    tree_m = RandomForestRegressor(n_estimators = n_estimators, max_depth = MaxDepth, random_state = 42)\n",
    "    model = tree_m.fit(X_train, y_train)\n",
    "    y_pred = model.predict(X_test)\n",
    "    mse = mean_squared_error(y_test, y_pred)\n",
    "    r2 = r2_score(y_test, y_pred)\n",
    "    return model, r2, mse\n",
    "'''           \n",
    "X = encoded_data[['Standard_yield']]\n",
    "y = encoded_data.drop(columns = ['Standard_yield', 'Field_ID'])\n",
    "\n",
    "X_train, X_test, y_train, y_test = train_test_split(X, y, test_size = 0.2, shuffle = True)\n",
    "\n",
    "# Evaluate the model\n",
    "mse_rf = mean_squared_error(y_test_scaled, y_pred_rf)\n",
    "r2 = r2_score(y_test_scaled, y_pred_rf)\n",
    "print(f\"Mean Squared Error of Random Forest Regressor: {mse_rf}\")\n",
    "print(f\"R Squared of Random Forest Regressor: {r2}\")\n",
    "'''\n",
    "train_rf_model(encoded_data, 100, 15, 42)"
   ]
  },
  {
   "cell_type": "markdown",
   "metadata": {},
   "source": [
    "Answer: R2: 0.9586, MSE: 0.0006"
   ]
  },
  {
   "attachments": {},
   "cell_type": "markdown",
   "metadata": {},
   "source": [
    "### Step 24\n",
    "\n",
    "We want to examine how our data will fit to a random forest model when we tune the number of trees. We want to train and compare two random forest models with the same dataset as in the previous exercise. The first model should be trained with `150` trees, and the second model with `200` trees. Both models should use the default hyperparameters for all other settings, apart from a random_state of `42` to ensure reproducibility. "
   ]
  },
  {
   "cell_type": "code",
   "execution_count": 51,
   "metadata": {},
   "outputs": [
    {
     "name": "stdout",
     "output_type": "stream",
     "text": [
      "(RandomForestRegressor(n_estimators=150, random_state=42), 0.9625025974267769, 0.00049966887060658)\n",
      "RandomForestRegressor(n_estimators=200, random_state=42) 0.9625541789031138 0.0004989815254504688\n"
     ]
    }
   ],
   "source": [
    "def train_rf_model(dataframe, n_estimators,  random_state):\n",
    "    y = dataframe['Standard_yield']\n",
    "    X = dataframe.drop(columns = ['Standard_yield', 'Field_ID'])\n",
    "    X_train, X_test, y_train, y_test = train_test_split(X, y, test_size = 0.2, random_state = 42)\n",
    "    tree_m = RandomForestRegressor(n_estimators = n_estimators, random_state = 42)\n",
    "    model = tree_m.fit(X_train, y_train)\n",
    "    y_pred = model.predict(X_test)\n",
    "    mse = mean_squared_error(y_test, y_pred)\n",
    "    r2 = r2_score(y_test, y_pred)\n",
    "    return model, r2, mse\n",
    "    \n",
    "print(train_rf_model(encoded_data, 150, 42))\n",
    "rfr_model, rfr_r2, rfr_mse = train_rf_model(encoded_data, 200, 42)\n",
    "print(rfr_model, rfr_r2, rfr_mse)"
   ]
  },
  {
   "cell_type": "markdown",
   "metadata": {},
   "source": [
    "After evaluating both models on the test set we find out that the model with 200 trees showed a very slight decrease in error compared to the model with 150 trees."
   ]
  },
  {
   "cell_type": "markdown",
   "metadata": {},
   "source": [
    "One possible effect of increasing the number of trees in a random forest regression model is an increase in the model’s predictive ability up to a certain point, after which additional trees do not significantly impact performance."
   ]
  },
  {
   "attachments": {},
   "cell_type": "markdown",
   "metadata": {},
   "source": [
    "### Step 25\n",
    "\n",
    "Following the training of our random forest models, we analyse the feature importance scores provided by the model built using 200 trees. Our aim is to identify which features the model considers most significant in predicting the target variable."
   ]
  },
  {
   "cell_type": "code",
   "execution_count": 52,
   "metadata": {},
   "outputs": [
    {
     "data": {
      "text/plain": [
       "Rainfall                   0.203030\n",
       "Crop_type_tea              0.182603\n",
       "Latitude                   0.153801\n",
       "pH                         0.120032\n",
       "Elevation                  0.077331\n",
       "Pollution_level            0.063107\n",
       "Crop_type_rice             0.040436\n",
       "Crop_type_coffee           0.039941\n",
       "Crop_type_potato           0.025930\n",
       "Crop_type_wheat            0.022131\n",
       "Min_temperature_C          0.017992\n",
       "Longitude                  0.010059\n",
       "Crop_type_cassava          0.007828\n",
       "Annual_yield               0.005470\n",
       "Soil_type_Sandy            0.004663\n",
       "Soil_type_Volcanic         0.004051\n",
       "Temperature_Range          0.003504\n",
       "Slope                      0.003293\n",
       "Plot_size                  0.003062\n",
       "Ave_temps                  0.002829\n",
       "Max_temperature_C          0.002105\n",
       "Soil_fertility             0.001960\n",
       "Crop_type_maize            0.001944\n",
       "Soil_type_Silt             0.001036\n",
       "Soil_type_Rocky            0.000620\n",
       "Soil_type_Peaty            0.000502\n",
       "Location_Rural_Hawassa     0.000275\n",
       "Location_Rural_Sokoto      0.000270\n",
       "Location_Rural_Kilimani    0.000155\n",
       "Location_Rural_Amanzi      0.000040\n",
       "dtype: float64"
      ]
     },
     "execution_count": 52,
     "metadata": {},
     "output_type": "execute_result"
    }
   ],
   "source": [
    "# Extract feature importances\n",
    "feature_importances = rfr_model.feature_importances_\n",
    "\n",
    "feature_names = X.columns\n",
    "# Create a pandas Series \n",
    "importances = pd.Series(feature_importances, index=feature_names)\n",
    "\n",
    "# Sort the feature importances in descending order\n",
    "sorted_importances = importances.sort_values(ascending=False)\n",
    "sorted_importances"
   ]
  },
  {
   "cell_type": "markdown",
   "metadata": {},
   "source": [
    "A RandomForestRegressor with the parameters set as `n_estimators=150`, `max_depth=None` and `oob_score=True` will allow access and calculation of the Out-of-Bag (OOB) score for performance evaluation without requiring a separate validation set\n",
    "\n",
    "Explanation:\n",
    "\n",
    "The parameter oob_score set to True in the second option indicates that the Out-of-Bag (OOB) score will be calculated during the training of the random forest model. The OOB score is calculated using the samples not included in the bootstrap sample used to train each tree. Therefore, by enabling the oob_score parameter, you can access and evaluate the model's performance without requiring a separate validation set."
   ]
  }
 ],
 "metadata": {
  "kernelspec": {
   "display_name": "Python 3",
   "language": "python",
   "name": "python3"
  },
  "language_info": {
   "codemirror_mode": {
    "name": "ipython",
    "version": 3
   },
   "file_extension": ".py",
   "mimetype": "text/x-python",
   "name": "python",
   "nbconvert_exporter": "python",
   "pygments_lexer": "ipython3",
   "version": "3.11.9"
  }
 },
 "nbformat": 4,
 "nbformat_minor": 4
}
