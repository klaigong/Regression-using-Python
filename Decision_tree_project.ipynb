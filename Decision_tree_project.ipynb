{
 "cells": [
  {
   "attachments": {},
   "cell_type": "markdown",
   "id": "f662d169",
   "metadata": {},
   "source": [
    "# Decision trees"
   ]
  },
  {
   "attachments": {},
   "cell_type": "markdown",
   "id": "26af890c",
   "metadata": {},
   "source": [
    "This notebook expounds on the fundamental concepts of decision trees by implementing a decision tree regression model and analysing its RMSLE."
   ]
  },
  {
   "attachments": {},
   "cell_type": "markdown",
   "id": "a275af89",
   "metadata": {},
   "source": [
    "We begin by importing the necessary packages for the challenges."
   ]
  },
  {
   "cell_type": "code",
   "execution_count": 1,
   "id": "7918a99c",
   "metadata": {},
   "outputs": [],
   "source": [
    "import numpy as np\n",
    "import pandas as pd\n",
    "from sklearn.tree import DecisionTreeRegressor"
   ]
  },
  {
   "attachments": {},
   "cell_type": "markdown",
   "id": "022dbac7",
   "metadata": {},
   "source": [
    "## The dataset\n",
    "\n",
    "The dataset (by ExploreAI) contains population data for various countries over the years from 1960 to 2017. Each row corresponds to a specific country, identified by a country code, and each column represents a year. The values within the dataset represent the population count for each country in the corresponding year."
   ]
  },
  {
   "cell_type": "code",
   "execution_count": 2,
   "id": "9c17898c",
   "metadata": {},
   "outputs": [
    {
     "data": {
      "text/html": [
       "<div>\n",
       "<style scoped>\n",
       "    .dataframe tbody tr th:only-of-type {\n",
       "        vertical-align: middle;\n",
       "    }\n",
       "\n",
       "    .dataframe tbody tr th {\n",
       "        vertical-align: top;\n",
       "    }\n",
       "\n",
       "    .dataframe thead th {\n",
       "        text-align: right;\n",
       "    }\n",
       "</style>\n",
       "<table border=\"1\" class=\"dataframe\">\n",
       "  <thead>\n",
       "    <tr style=\"text-align: right;\">\n",
       "      <th></th>\n",
       "      <th>1960</th>\n",
       "      <th>1961</th>\n",
       "      <th>1962</th>\n",
       "      <th>1963</th>\n",
       "      <th>1964</th>\n",
       "      <th>1965</th>\n",
       "      <th>1966</th>\n",
       "      <th>1967</th>\n",
       "      <th>1968</th>\n",
       "      <th>1969</th>\n",
       "      <th>...</th>\n",
       "      <th>2008</th>\n",
       "      <th>2009</th>\n",
       "      <th>2010</th>\n",
       "      <th>2011</th>\n",
       "      <th>2012</th>\n",
       "      <th>2013</th>\n",
       "      <th>2014</th>\n",
       "      <th>2015</th>\n",
       "      <th>2016</th>\n",
       "      <th>2017</th>\n",
       "    </tr>\n",
       "    <tr>\n",
       "      <th>Country Code</th>\n",
       "      <th></th>\n",
       "      <th></th>\n",
       "      <th></th>\n",
       "      <th></th>\n",
       "      <th></th>\n",
       "      <th></th>\n",
       "      <th></th>\n",
       "      <th></th>\n",
       "      <th></th>\n",
       "      <th></th>\n",
       "      <th></th>\n",
       "      <th></th>\n",
       "      <th></th>\n",
       "      <th></th>\n",
       "      <th></th>\n",
       "      <th></th>\n",
       "      <th></th>\n",
       "      <th></th>\n",
       "      <th></th>\n",
       "      <th></th>\n",
       "      <th></th>\n",
       "    </tr>\n",
       "  </thead>\n",
       "  <tbody>\n",
       "    <tr>\n",
       "      <th>ABW</th>\n",
       "      <td>54211.0</td>\n",
       "      <td>55438.0</td>\n",
       "      <td>56225.0</td>\n",
       "      <td>56695.0</td>\n",
       "      <td>57032.0</td>\n",
       "      <td>57360.0</td>\n",
       "      <td>57715.0</td>\n",
       "      <td>58055.0</td>\n",
       "      <td>58386.0</td>\n",
       "      <td>58726.0</td>\n",
       "      <td>...</td>\n",
       "      <td>101353.0</td>\n",
       "      <td>101453.0</td>\n",
       "      <td>101669.0</td>\n",
       "      <td>102053.0</td>\n",
       "      <td>102577.0</td>\n",
       "      <td>103187.0</td>\n",
       "      <td>103795.0</td>\n",
       "      <td>104341.0</td>\n",
       "      <td>104822.0</td>\n",
       "      <td>105264.0</td>\n",
       "    </tr>\n",
       "    <tr>\n",
       "      <th>AFG</th>\n",
       "      <td>8996351.0</td>\n",
       "      <td>9166764.0</td>\n",
       "      <td>9345868.0</td>\n",
       "      <td>9533954.0</td>\n",
       "      <td>9731361.0</td>\n",
       "      <td>9938414.0</td>\n",
       "      <td>10152331.0</td>\n",
       "      <td>10372630.0</td>\n",
       "      <td>10604346.0</td>\n",
       "      <td>10854428.0</td>\n",
       "      <td>...</td>\n",
       "      <td>27294031.0</td>\n",
       "      <td>28004331.0</td>\n",
       "      <td>28803167.0</td>\n",
       "      <td>29708599.0</td>\n",
       "      <td>30696958.0</td>\n",
       "      <td>31731688.0</td>\n",
       "      <td>32758020.0</td>\n",
       "      <td>33736494.0</td>\n",
       "      <td>34656032.0</td>\n",
       "      <td>35530081.0</td>\n",
       "    </tr>\n",
       "    <tr>\n",
       "      <th>AGO</th>\n",
       "      <td>5643182.0</td>\n",
       "      <td>5753024.0</td>\n",
       "      <td>5866061.0</td>\n",
       "      <td>5980417.0</td>\n",
       "      <td>6093321.0</td>\n",
       "      <td>6203299.0</td>\n",
       "      <td>6309770.0</td>\n",
       "      <td>6414995.0</td>\n",
       "      <td>6523791.0</td>\n",
       "      <td>6642632.0</td>\n",
       "      <td>...</td>\n",
       "      <td>21759420.0</td>\n",
       "      <td>22549547.0</td>\n",
       "      <td>23369131.0</td>\n",
       "      <td>24218565.0</td>\n",
       "      <td>25096150.0</td>\n",
       "      <td>25998340.0</td>\n",
       "      <td>26920466.0</td>\n",
       "      <td>27859305.0</td>\n",
       "      <td>28813463.0</td>\n",
       "      <td>29784193.0</td>\n",
       "    </tr>\n",
       "    <tr>\n",
       "      <th>ALB</th>\n",
       "      <td>1608800.0</td>\n",
       "      <td>1659800.0</td>\n",
       "      <td>1711319.0</td>\n",
       "      <td>1762621.0</td>\n",
       "      <td>1814135.0</td>\n",
       "      <td>1864791.0</td>\n",
       "      <td>1914573.0</td>\n",
       "      <td>1965598.0</td>\n",
       "      <td>2022272.0</td>\n",
       "      <td>2081695.0</td>\n",
       "      <td>...</td>\n",
       "      <td>2947314.0</td>\n",
       "      <td>2927519.0</td>\n",
       "      <td>2913021.0</td>\n",
       "      <td>2905195.0</td>\n",
       "      <td>2900401.0</td>\n",
       "      <td>2895092.0</td>\n",
       "      <td>2889104.0</td>\n",
       "      <td>2880703.0</td>\n",
       "      <td>2876101.0</td>\n",
       "      <td>2873457.0</td>\n",
       "    </tr>\n",
       "    <tr>\n",
       "      <th>AND</th>\n",
       "      <td>13411.0</td>\n",
       "      <td>14375.0</td>\n",
       "      <td>15370.0</td>\n",
       "      <td>16412.0</td>\n",
       "      <td>17469.0</td>\n",
       "      <td>18549.0</td>\n",
       "      <td>19647.0</td>\n",
       "      <td>20758.0</td>\n",
       "      <td>21890.0</td>\n",
       "      <td>23058.0</td>\n",
       "      <td>...</td>\n",
       "      <td>83861.0</td>\n",
       "      <td>84462.0</td>\n",
       "      <td>84449.0</td>\n",
       "      <td>83751.0</td>\n",
       "      <td>82431.0</td>\n",
       "      <td>80788.0</td>\n",
       "      <td>79223.0</td>\n",
       "      <td>78014.0</td>\n",
       "      <td>77281.0</td>\n",
       "      <td>76965.0</td>\n",
       "    </tr>\n",
       "  </tbody>\n",
       "</table>\n",
       "<p>5 rows × 58 columns</p>\n",
       "</div>"
      ],
      "text/plain": [
       "                   1960       1961       1962       1963       1964  \\\n",
       "Country Code                                                          \n",
       "ABW             54211.0    55438.0    56225.0    56695.0    57032.0   \n",
       "AFG           8996351.0  9166764.0  9345868.0  9533954.0  9731361.0   \n",
       "AGO           5643182.0  5753024.0  5866061.0  5980417.0  6093321.0   \n",
       "ALB           1608800.0  1659800.0  1711319.0  1762621.0  1814135.0   \n",
       "AND             13411.0    14375.0    15370.0    16412.0    17469.0   \n",
       "\n",
       "                   1965        1966        1967        1968        1969  ...  \\\n",
       "Country Code                                                             ...   \n",
       "ABW             57360.0     57715.0     58055.0     58386.0     58726.0  ...   \n",
       "AFG           9938414.0  10152331.0  10372630.0  10604346.0  10854428.0  ...   \n",
       "AGO           6203299.0   6309770.0   6414995.0   6523791.0   6642632.0  ...   \n",
       "ALB           1864791.0   1914573.0   1965598.0   2022272.0   2081695.0  ...   \n",
       "AND             18549.0     19647.0     20758.0     21890.0     23058.0  ...   \n",
       "\n",
       "                    2008        2009        2010        2011        2012  \\\n",
       "Country Code                                                               \n",
       "ABW             101353.0    101453.0    101669.0    102053.0    102577.0   \n",
       "AFG           27294031.0  28004331.0  28803167.0  29708599.0  30696958.0   \n",
       "AGO           21759420.0  22549547.0  23369131.0  24218565.0  25096150.0   \n",
       "ALB            2947314.0   2927519.0   2913021.0   2905195.0   2900401.0   \n",
       "AND              83861.0     84462.0     84449.0     83751.0     82431.0   \n",
       "\n",
       "                    2013        2014        2015        2016        2017  \n",
       "Country Code                                                              \n",
       "ABW             103187.0    103795.0    104341.0    104822.0    105264.0  \n",
       "AFG           31731688.0  32758020.0  33736494.0  34656032.0  35530081.0  \n",
       "AGO           25998340.0  26920466.0  27859305.0  28813463.0  29784193.0  \n",
       "ALB            2895092.0   2889104.0   2880703.0   2876101.0   2873457.0  \n",
       "AND              80788.0     79223.0     78014.0     77281.0     76965.0  \n",
       "\n",
       "[5 rows x 58 columns]"
      ]
     },
     "execution_count": 2,
     "metadata": {},
     "output_type": "execute_result"
    }
   ],
   "source": [
    "population_df = pd.read_csv('https://raw.githubusercontent.com/Explore-AI/Public-Data/master/AnalyseProject/world_population.csv', index_col = 'Country Code')\n",
    "population_df.head()"
   ]
  },
  {
   "cell_type": "markdown",
   "id": "de45a481",
   "metadata": {},
   "source": [
    "## Analysis"
   ]
  },
  {
   "attachments": {},
   "cell_type": "markdown",
   "id": "5a0b7683",
   "metadata": {
    "tags": []
   },
   "source": [
    "### Population growth\n",
    "\n",
    "The world population data spans from 1960 to 2017. We'd like to build a predictive model that can give us the best guess at what the population growth rate in a given year might be. We will calculate the population growth rate as follows:-\n",
    "\n",
    "$$\n",
    "Growth\\_rate = \\frac{current\\_year\\_population - previous\\_year\\_population}{previous\\_year\\_population}\n",
    "$$\n",
    "\n",
    "As such, we can only calculate the growth rate for the year 1961 onwards.\n",
    "\n",
    "Write a function that takes the `population_df` and a `country_code` as input and computes the population growth rate for a given country starting from the year 1961. This function must return a return a 2-d numpy array that contains the year and corresponding growth rate for the country."
   ]
  },
  {
   "cell_type": "code",
   "execution_count": 44,
   "id": "c2ee76ec",
   "metadata": {},
   "outputs": [],
   "source": [
    "def get_population_growth_rate_by_country_year(df,country_code):\n",
    "    '''\n",
    "    This function calls the country code representing a country from the index column, and then calculates\n",
    "    its population growth rate.\n",
    "\n",
    "    Args:\n",
    "        Country Code (str)\n",
    "        Year (int)\n",
    "\n",
    "    Returns:\n",
    "        growth_rates (arr) - An array containing years and the respective growth rate for the selected country.\n",
    "\n",
    "    ***ALTERNATIVE CODE***\n",
    "    country_data = df.loc[country_code, '1960':]\n",
    "    pop_values = country_data.values\n",
    "    pop_growth_rate = np.round(np.diff(pop_values)/pop_values[:-1], 5)\n",
    "    years = np.array(country_data.index[1:], dtype = np.int64)\n",
    "    result_array = np.column_stack((years, pop_growth_rate))\n",
    "    return result_array\n",
    "    '''\n",
    "    \n",
    "    growth_rates = ([]) # Empty array to store the values after looping through the years\n",
    "    for year in df.columns.drop('1960'):\n",
    "        current = (population_df.loc[str(country_code), str(year)]) # Stores current year growth rate\n",
    "        previous = (population_df.loc[str(country_code), str(int(year)-1)]) # Stores previous year's growth rate\n",
    "        growth_rate = round(((current - previous)/previous), 5)\n",
    "        growth_rates.append([year, growth_rate])\n",
    "    return np.array(growth_rates, dtype = np.float64)"
   ]
  },
  {
   "cell_type": "markdown",
   "id": "de3132bb",
   "metadata": {},
   "source": [
    "Input:"
   ]
  },
  {
   "cell_type": "code",
   "execution_count": 45,
   "id": "2cc2bcc3",
   "metadata": {
    "scrolled": true
   },
   "outputs": [
    {
     "data": {
      "text/plain": [
       "array([[ 1.961e+03,  2.263e-02],\n",
       "       [ 1.962e+03,  1.420e-02],\n",
       "       [ 1.963e+03,  8.360e-03],\n",
       "       [ 1.964e+03,  5.940e-03],\n",
       "       [ 1.965e+03,  5.750e-03],\n",
       "       [ 1.966e+03,  6.190e-03],\n",
       "       [ 1.967e+03,  5.890e-03],\n",
       "       [ 1.968e+03,  5.700e-03],\n",
       "       [ 1.969e+03,  5.820e-03],\n",
       "       [ 1.970e+03,  5.740e-03],\n",
       "       [ 1.971e+03,  6.380e-03],\n",
       "       [ 1.972e+03,  6.730e-03],\n",
       "       [ 1.973e+03,  6.730e-03],\n",
       "       [ 1.974e+03,  4.730e-03],\n",
       "       [ 1.975e+03,  2.130e-03],\n",
       "       [ 1.976e+03, -1.170e-03],\n",
       "       [ 1.977e+03, -3.630e-03],\n",
       "       [ 1.978e+03, -4.360e-03],\n",
       "       [ 1.979e+03, -2.050e-03],\n",
       "       [ 1.980e+03,  1.930e-03],\n",
       "       [ 1.981e+03,  7.840e-03],\n",
       "       [ 1.982e+03,  1.285e-02],\n",
       "       [ 1.983e+03,  1.395e-02],\n",
       "       [ 1.984e+03,  1.021e-02],\n",
       "       [ 1.985e+03,  3.020e-03],\n",
       "       [ 1.986e+03, -6.060e-03],\n",
       "       [ 1.987e+03, -1.295e-02],\n",
       "       [ 1.988e+03, -1.219e-02],\n",
       "       [ 1.989e+03, -7.700e-04],\n",
       "       [ 1.990e+03,  1.830e-02],\n",
       "       [ 1.991e+03,  3.979e-02],\n",
       "       [ 1.992e+03,  5.591e-02],\n",
       "       [ 1.993e+03,  6.256e-02],\n",
       "       [ 1.994e+03,  5.787e-02],\n",
       "       [ 1.995e+03,  4.725e-02],\n",
       "       [ 1.996e+03,  3.580e-02],\n",
       "       [ 1.997e+03,  2.706e-02],\n",
       "       [ 1.998e+03,  2.137e-02],\n",
       "       [ 1.999e+03,  1.980e-02],\n",
       "       [ 2.000e+03,  2.076e-02],\n",
       "       [ 2.001e+03,  2.251e-02],\n",
       "       [ 2.002e+03,  2.254e-02],\n",
       "       [ 2.003e+03,  2.132e-02],\n",
       "       [ 2.004e+03,  1.773e-02],\n",
       "       [ 2.005e+03,  1.311e-02],\n",
       "       [ 2.006e+03,  8.010e-03],\n",
       "       [ 2.007e+03,  3.850e-03],\n",
       "       [ 2.008e+03,  1.310e-03],\n",
       "       [ 2.009e+03,  9.900e-04],\n",
       "       [ 2.010e+03,  2.130e-03],\n",
       "       [ 2.011e+03,  3.780e-03],\n",
       "       [ 2.012e+03,  5.130e-03],\n",
       "       [ 2.013e+03,  5.950e-03],\n",
       "       [ 2.014e+03,  5.890e-03],\n",
       "       [ 2.015e+03,  5.260e-03],\n",
       "       [ 2.016e+03,  4.610e-03],\n",
       "       [ 2.017e+03,  4.220e-03]])"
      ]
     },
     "execution_count": 45,
     "metadata": {},
     "output_type": "execute_result"
    }
   ],
   "source": [
    "get_population_growth_rate_by_country_year(population_df,'ABW')"
   ]
  },
  {
   "attachments": {},
   "cell_type": "markdown",
   "id": "dc9b7dc6",
   "metadata": {},
   "source": [
    "### Even-odd train-test split\n",
    "\n",
    "Now that we have our data, we need to divide it into two sets: the variables we will train on and the variables we will predict on. In this scenario, we're separating the variables so that the **training set contains growth rates for even years and the test set contains growth rates for odd years**. We also need to divide our data into the predictive features (`X`) and the response features (`y`). \n",
    "\n",
    "Write a function that will take a 2-D numpy array as input and return four variables in the form of `(X_train, y_train), (X_test, y_test)`, where `(X_train, y_train)` are the features and response variables of the training set, and `(X_test, y_test)` are the features and response variables of the testing set. The training and testing data consist of even and odd years, respectively. The function should return two tuples of the form `(X_train, y_train), (X_test, y_test)`."
   ]
  },
  {
   "cell_type": "code",
   "execution_count": 46,
   "id": "ae48fab0",
   "metadata": {},
   "outputs": [],
   "source": [
    "def feature_response_split(arr):\n",
    "    '''\n",
    "    This function takes the array from the previous function and splits the data into odd and even years,\n",
    "    then two further sets of training(even years) and testing data(odd years).\n",
    "\n",
    "    Args:\n",
    "        arr (arr): Array containing data for years and population growth rate\n",
    "\n",
    "    Returns:\n",
    "        (X_train, y_train) (tup): Tuple containining data for training\n",
    "        (X_test, y_test) (tup): Tuple containining data for testing\n",
    "\n",
    "    ***ALTERNATIVE CODE***\n",
    "    even_set_years = [arr[i][0] for i in range(len(arr)) if int(arr[i][0]) % 2 == 0]\n",
    "    odd_set_years = [arr[i][0] for i in range(len(arr)) if int(arr[i][0]) % 2 != 0]\n",
    "    even_set_rate = [arr[i][1] for i in range(len(arr)) if int(arr[i][0]) % 2 == 0]\n",
    "    odd_set_rate = [arr[i][1] for i in range(len(arr)) if int(arr[i][0]) % 2 != 0]\n",
    "    \n",
    "    (X_train, y_train) = (np.array(even_set_years), np.array(even_set_rate))\n",
    "    (X_test, y_test) = (np.array(odd_set_years), np.array(odd_set_rate))\n",
    "    return (X_train, y_train), (X_test, y_test)\n",
    "    '''\n",
    "    \n",
    "    even_set_years = []\n",
    "    odd_set_years = []\n",
    "    even_set_rate = []\n",
    "    odd_set_rate = []\n",
    "    for i in range(len(arr)):\n",
    "        if int(arr[i][0])%2 == 0:\n",
    "            even_set_years.append(arr[i][0])\n",
    "            even_set_rate.append(arr[i][1])\n",
    "        else:\n",
    "            odd_set_years.append(arr[i][0])\n",
    "            odd_set_rate.append(arr[i][1])\n",
    "    (X_train, y_train) = (np.array(even_set_years), np.array(even_set_rate))\n",
    "    (X_test, y_test) = (np.array(odd_set_years), np.array(odd_set_rate))\n",
    "    return (X_train, y_train), (X_test, y_test)"
   ]
  },
  {
   "cell_type": "markdown",
   "id": "c44015d7",
   "metadata": {},
   "source": [
    "Input:"
   ]
  },
  {
   "cell_type": "code",
   "execution_count": 49,
   "id": "edbfa32b",
   "metadata": {},
   "outputs": [
    {
     "name": "stdout",
     "output_type": "stream",
     "text": [
      "[ 0.0142   0.00594  0.00619  0.0057   0.00574  0.00673  0.00473 -0.00117\n",
      " -0.00436  0.00193  0.01285  0.01021 -0.00606 -0.01219  0.0183   0.05591\n",
      "  0.05787  0.0358   0.02137  0.02076  0.02254  0.01773  0.00801  0.00131\n",
      "  0.00213  0.00513  0.00589  0.00461]\n"
     ]
    }
   ],
   "source": [
    "data = get_population_growth_rate_by_country_year(population_df,'ABW');\n",
    "(X_train, y_train), (X_test, y_test) = feature_response_split(data)\n",
    "print(y_train)"
   ]
  },
  {
   "attachments": {},
   "cell_type": "markdown",
   "id": "aa09265c",
   "metadata": {},
   "source": [
    "### Model training\n",
    "\n",
    "Now that we have formatted our data, we can fit a model using sklearn's `DecisionTreeRegressor` class. We'll write a function that will take as input the features and response variables that we created in the last question, and return a trained model."
   ]
  },
  {
   "cell_type": "code",
   "execution_count": 50,
   "id": "22984670",
   "metadata": {},
   "outputs": [],
   "source": [
    "def train_model(X_train, y_train, MaxDepth):\n",
    "    '''\n",
    "    This function fits and trains a Decision Tree model from the sklearn module on two sets of arrays for\n",
    "    the predictor and response variables after reshaping them.\n",
    "\n",
    "    Args:\n",
    "        X_train (arr): An array containing training data for the X-axis\n",
    "        y_train (arr): An array containing training data for the Y-axis\n",
    "        MaxDepth (int): The maximum depth for the decision tree\n",
    "\n",
    "    Returns:\n",
    "        A model fitted to the data provided\n",
    "    '''\n",
    "        \n",
    "    X_train_reshaped = X_train.reshape(-1, 1)\n",
    "    y_train_reshaped = y_train.reshape(-1, 1)\n",
    "    tree_m = DecisionTreeRegressor(max_depth = MaxDepth)\n",
    "    return tree_m.fit(X_train_reshaped, y_train_reshaped)"
   ]
  },
  {
   "cell_type": "markdown",
   "id": "90ab9f5e",
   "metadata": {},
   "source": [
    "Input:"
   ]
  },
  {
   "cell_type": "code",
   "execution_count": 51,
   "id": "52c5efb1",
   "metadata": {},
   "outputs": [
    {
     "data": {
      "text/plain": [
       "array([0.00451333])"
      ]
     },
     "execution_count": 51,
     "metadata": {},
     "output_type": "execute_result"
    }
   ],
   "source": [
    "data = get_population_growth_rate_by_country_year(population_df,'ABW')\n",
    "(X_train, y_train), _ = feature_response_split(data)\n",
    "\n",
    "train_model(X_train, y_train,3).predict([[2017]])"
   ]
  },
  {
   "cell_type": "markdown",
   "id": "59712459",
   "metadata": {},
   "source": [
    "Expected output:"
   ]
  },
  {
   "cell_type": "markdown",
   "id": "3e8875e2",
   "metadata": {},
   "source": [
    "```\n",
    "array([0.00451333])\n",
    "```"
   ]
  },
  {
   "attachments": {},
   "cell_type": "markdown",
   "id": "14a50f5e",
   "metadata": {},
   "source": [
    "### Model testing\n",
    "\n",
    "Now we would like to test our model on the testing data that we produced in Exercise 2. This test will give the Root Mean Squared Logarithmic Error (RMSLE), which is determined by:\n",
    "\n",
    "$$\n",
    "RMSLE = \\sqrt{\\frac{1}{N}\\sum_{i=1}^N [log(1+p_i) - log(1+y_i)]^2}\n",
    "$$\n",
    "\n",
    "* *$p_i$ refers to the $i^{\\rm th}$ prediction made from `X_test` \n",
    "* $y_i$ refers to the $i^{\\rm th}$ value in `y_test`\n",
    "* $N$ is the length of `y_test`"
   ]
  },
  {
   "cell_type": "code",
   "execution_count": 100,
   "id": "3b0ea2f8",
   "metadata": {},
   "outputs": [],
   "source": [
    "def test_model(model, y_test, X_test):\n",
    "    '''\n",
    "    This module fetches predictions from the testing data then calculates the Root Mean Squared Logarithmic\n",
    "    Error after reshaping the testing data arrays.\n",
    "\n",
    "    Args:\n",
    "        model (class): A model fitted from the previous function\n",
    "        y_test (arr): An array containing the response variable for the testing data\n",
    "        X_test (arr): An array containing the predictor variable for the testing data\n",
    "\n",
    "    Returns:\n",
    "        RMSLE (float): The root mean squared logarithmic error\n",
    "    '''\n",
    "    \n",
    "    X_test_flat = X_test.flatten()\n",
    "    y_test_flat = y_test.flatten()\n",
    "    y_pred = model.predict(X_test_flat.reshape(-1, 1))\n",
    "    RMSLE = np.sqrt((1/len(y_test_flat))*sum((((np.log(1+y_pred)-np.log(1+y_test_flat)))**2)))\n",
    "    return round(RMSLE, 3)"
   ]
  },
  {
   "cell_type": "markdown",
   "id": "e9e50777",
   "metadata": {},
   "source": [
    "Input:"
   ]
  },
  {
   "cell_type": "code",
   "execution_count": 99,
   "id": "2c1d59c3",
   "metadata": {},
   "outputs": [
    {
     "data": {
      "text/plain": [
       "0.008"
      ]
     },
     "execution_count": 99,
     "metadata": {},
     "output_type": "execute_result"
    }
   ],
   "source": [
    "data = get_population_growth_rate_by_country_year(population_df,'ABW')\n",
    "(X_train, y_train), (X_test, y_test) = feature_response_split(data)\n",
    "lm = train_model(X_train, y_train,3)\n",
    "test_model(lm, y_test, X_test)"
   ]
  }
 ],
 "metadata": {
  "kernelspec": {
   "display_name": "Python 3 (ipykernel)",
   "language": "python",
   "name": "python3"
  },
  "language_info": {
   "codemirror_mode": {
    "name": "ipython",
    "version": 3
   },
   "file_extension": ".py",
   "mimetype": "text/x-python",
   "name": "python",
   "nbconvert_exporter": "python",
   "pygments_lexer": "ipython3",
   "version": "3.11.7"
  }
 },
 "nbformat": 4,
 "nbformat_minor": 5
}
